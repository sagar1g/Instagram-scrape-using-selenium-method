{
 "cells": [
  {
   "cell_type": "code",
   "execution_count": 6,
   "id": "624e94b0",
   "metadata": {
    "collapsed": true
   },
   "outputs": [
    {
     "name": "stdout",
     "output_type": "stream",
     "text": [
      "Requirement already satisfied: selenium in c:\\users\\admin\\anaconda3\\lib\\site-packages (4.5.0)\n",
      "Requirement already satisfied: urllib3[socks]~=1.26 in c:\\users\\admin\\anaconda3\\lib\\site-packages (from selenium) (1.26.9)\n",
      "Requirement already satisfied: certifi>=2021.10.8 in c:\\users\\admin\\anaconda3\\lib\\site-packages (from selenium) (2021.10.8)\n",
      "Requirement already satisfied: trio-websocket~=0.9 in c:\\users\\admin\\anaconda3\\lib\\site-packages (from selenium) (0.9.2)\n",
      "Requirement already satisfied: trio~=0.17 in c:\\users\\admin\\anaconda3\\lib\\site-packages (from selenium) (0.22.0)\n",
      "Requirement already satisfied: async-generator>=1.9 in c:\\users\\admin\\anaconda3\\lib\\site-packages (from trio~=0.17->selenium) (1.10)\n",
      "Requirement already satisfied: exceptiongroup>=1.0.0rc9 in c:\\users\\admin\\anaconda3\\lib\\site-packages (from trio~=0.17->selenium) (1.0.0rc9)\n",
      "Requirement already satisfied: attrs>=19.2.0 in c:\\users\\admin\\anaconda3\\lib\\site-packages (from trio~=0.17->selenium) (21.4.0)\n",
      "Requirement already satisfied: sortedcontainers in c:\\users\\admin\\anaconda3\\lib\\site-packages (from trio~=0.17->selenium) (2.4.0)\n",
      "Requirement already satisfied: cffi>=1.14 in c:\\users\\admin\\anaconda3\\lib\\site-packages (from trio~=0.17->selenium) (1.15.0)\n",
      "Requirement already satisfied: sniffio in c:\\users\\admin\\anaconda3\\lib\\site-packages (from trio~=0.17->selenium) (1.2.0)\n",
      "Requirement already satisfied: outcome in c:\\users\\admin\\anaconda3\\lib\\site-packages (from trio~=0.17->selenium) (1.2.0)\n",
      "Requirement already satisfied: idna in c:\\users\\admin\\anaconda3\\lib\\site-packages (from trio~=0.17->selenium) (3.3)\n",
      "Requirement already satisfied: pycparser in c:\\users\\admin\\anaconda3\\lib\\site-packages (from cffi>=1.14->trio~=0.17->selenium) (2.21)\n",
      "Requirement already satisfied: wsproto>=0.14 in c:\\users\\admin\\anaconda3\\lib\\site-packages (from trio-websocket~=0.9->selenium) (1.2.0)\n",
      "Requirement already satisfied: PySocks!=1.5.7,<2.0,>=1.5.6 in c:\\users\\admin\\anaconda3\\lib\\site-packages (from urllib3[socks]~=1.26->selenium) (1.7.1)\n",
      "Requirement already satisfied: h11<1,>=0.9.0 in c:\\users\\admin\\anaconda3\\lib\\site-packages (from wsproto>=0.14->trio-websocket~=0.9->selenium) (0.14.0)\n",
      "Note: you may need to restart the kernel to use updated packages.\n"
     ]
    }
   ],
   "source": [
    "pip install selenium"
   ]
  },
  {
   "cell_type": "code",
   "execution_count": 9,
   "id": "e491a3d7",
   "metadata": {
    "collapsed": true
   },
   "outputs": [
    {
     "name": "stdout",
     "output_type": "stream",
     "text": [
      "Collecting wget\n",
      "  Downloading wget-3.2.zip (10 kB)\n",
      "Building wheels for collected packages: wget\n",
      "  Building wheel for wget (setup.py): started\n",
      "  Building wheel for wget (setup.py): finished with status 'done'\n",
      "  Created wheel for wget: filename=wget-3.2-py3-none-any.whl size=9672 sha256=e9775ad120b8141fa7ea8bf53c9d413828b4756bc9e42b0f44925d7341473bff\n",
      "  Stored in directory: c:\\users\\dell\\appdata\\local\\pip\\cache\\wheels\\04\\5f\\3e\\46cc37c5d698415694d83f607f833f83f0149e49b3af9d0f38\n",
      "Successfully built wget\n",
      "Installing collected packages: wget\n",
      "Successfully installed wget-3.2\n",
      "Note: you may need to restart the kernel to use updated packages.\n"
     ]
    }
   ],
   "source": [
    "pip install wget"
   ]
  },
  {
   "cell_type": "code",
   "execution_count": 2,
   "id": "c6955dab",
   "metadata": {},
   "outputs": [],
   "source": [
    "from selenium import webdriver\n",
    "from selenium.webdriver.common.by import By\n",
    "import pandas as pd\n",
    "from selenium.webdriver.common.keys import Keys\n",
    "from selenium.webdriver.support import expected_conditions as ec\n",
    "from selenium.webdriver.support.wait import WebDriverWait\n",
    "import time"
   ]
  },
  {
   "cell_type": "code",
   "execution_count": 3,
   "id": "ac3e902b",
   "metadata": {},
   "outputs": [
    {
     "name": "stderr",
     "output_type": "stream",
     "text": [
      "C:\\Users\\DELL\\AppData\\Local\\Temp/ipykernel_6592/1230644698.py:1: DeprecationWarning: executable_path has been deprecated, please pass in a Service object\n",
      "  driver = webdriver.Chrome(executable_path = 'C:\\\\Users\\\\DELL\\\\Downloads\\\\chromedriver.exe')\n"
     ]
    }
   ],
   "source": [
    "#webdriver path given here\n",
    "driver = webdriver.Chrome(executable_path = 'webdriver path')\n",
    "url = 'https://www.instagram.com/accounts/login/'\n",
    "\n",
    "driver.get(url)\n",
    "\n",
    "username =  WebDriverWait(driver , 10.00).until(ec.element_to_be_clickable((By.CSS_SELECTOR , \"input[name = 'username']\")))\n",
    "\n",
    "password =  WebDriverWait(driver , 10.00).until(ec.element_to_be_clickable((By.CSS_SELECTOR , \"input[name = 'password']\")))\n",
    "\n",
    "\n",
    "username.send_keys('Your_username')\n",
    "\n",
    "password.send_keys('Your_password')\n",
    "\n",
    "log_in =    WebDriverWait(driver , 10.00).until(ec.element_to_be_clickable((By.CSS_SELECTOR , \"button[type = 'submit']\"))).click()\n",
    "\n",
    "\n",
    "not_now =   WebDriverWait(driver , 10.00).until(ec.element_to_be_clickable((By.XPATH , \"//button[contains(text(), 'Not Now')]\"))).click()\n",
    "\n",
    "not_now2 =   WebDriverWait(driver , 10.00).until(ec.element_to_be_clickable((By.XPATH , \"//button[contains(text(), 'Not Now')]\"))).click()\n",
    "\n",
    "searchbox =  WebDriverWait(driver , 10.00).until(ec.element_to_be_clickable((By.CSS_SELECTOR , \"input[placeholder = 'Search']\")))\n",
    "\n",
    "searchbox.clear()\n",
    "\n",
    "keyword = '#python'\n",
    "\n",
    "searchbox.send_keys(keyword)\n",
    "\n",
    "#searchbox.send_keys(Keys.ENTER)\n",
    "\n"
   ]
  },
  {
   "cell_type": "code",
   "execution_count": 16,
   "id": "9239e3ba",
   "metadata": {},
   "outputs": [],
   "source": [
    "searchbox.send_keys(Keys.ENTER)\n"
   ]
  },
  {
   "cell_type": "code",
   "execution_count": 17,
   "id": "a422ebf6",
   "metadata": {
    "collapsed": true
   },
   "outputs": [
    {
     "name": "stdout",
     "output_type": "stream",
     "text": [
      "['https://instagram.fbom8-1.fna.fbcdn.net/v/t51.2885-15/311320366_473340821510833_2240354756557713853_n.jpg?stp=dst-jpg_e35&_nc_ht=instagram.fbom8-1.fna.fbcdn.net&_nc_cat=1&_nc_ohc=YL7rLs04jK0AX_5Tql3&edm=AGyKU4gBAAAA&ccb=7-5&ig_cache_key=Mjk0NjYwMzExMjgwMjkwNjY1Mg%3D%3D.2-ccb7-5&oh=00_AT9H5tis1nYPCA8GWtOu7bFeFZVADMZRjAWWYUp_1XyeYw&oe=634E31AD&_nc_sid=4cb768', 'https://instagram.fbom8-1.fna.fbcdn.net/v/t51.2885-15/311270711_1162272197729033_1999049241434058638_n.webp?stp=dst-jpg_e35&_nc_ht=instagram.fbom8-1.fna.fbcdn.net&_nc_cat=105&_nc_ohc=b5X9Bbx0O6MAX_VeDc8&tn=X6ueNa4hUlWZIdwP&edm=AGyKU4gBAAAA&ccb=7-5&ig_cache_key=Mjk0NzE0MDExMjUwNTE0ODk3MQ%3D%3D.2-ccb7-5&oh=00_AT9c1sh4wvK326f11tbtjiscse4ERxbnemiaBN0EerJQpA&oe=634D7FA2&_nc_sid=4cb768', 'https://instagram.fbom8-1.fna.fbcdn.net/v/t51.2885-15/310554722_1407488392993311_2306294211963343886_n.jpg?stp=dst-jpg_e15_fr_s1080x1080&_nc_ht=instagram.fbom8-1.fna.fbcdn.net&_nc_cat=103&_nc_ohc=ZMcbkIJnYV4AX9x9rji&edm=AGyKU4gBAAAA&ccb=7-5&ig_cache_key=Mjk0NTI3NTQ2NTgyNTAzODcwNg%3D%3D.2-ccb7-5&oh=00_AT9ul9uHDQSUyFlOnzZ5VPZaIH0bJ9I4A1Bq-PnKObASsQ&oe=634DD3A0&_nc_sid=4cb768', 'https://instagram.fbom8-1.fna.fbcdn.net/v/t51.2885-15/311164620_459862446240947_7250912932952982472_n.jpg?stp=dst-jpg_e15_fr_s1080x1080&_nc_ht=instagram.fbom8-1.fna.fbcdn.net&_nc_cat=111&_nc_ohc=1IMTF7s22XoAX_zMWmx&tn=X6ueNa4hUlWZIdwP&edm=AGyKU4gBAAAA&ccb=7-5&ig_cache_key=Mjk0Njc1MzQzMjIxMjQ4Nzc3NQ%3D%3D.2-ccb7-5&oh=00_AT_WXdKManSF49xZbUx5vKeY5v4tTVcfUu7qSiXaNtOR0w&oe=634D8343&_nc_sid=4cb768', 'https://instagram.fbom8-1.fna.fbcdn.net/v/t51.2885-15/311225670_462151929220462_8563115382870727694_n.webp?stp=dst-jpg_e35&_nc_ht=instagram.fbom8-1.fna.fbcdn.net&_nc_cat=110&_nc_ohc=TUZrOL7q73MAX-6cgyg&edm=AGyKU4gBAAAA&ccb=7-5&ig_cache_key=Mjk0NjYxODQ5NTAxMDEwNTIwNw%3D%3D.2-ccb7-5&oh=00_AT-UsbrpUHX5KIqnnK2l27GP4Sj-ulrKfcgUh4_vObx89w&oe=634CBC1D&_nc_sid=4cb768', 'https://instagram.fbom8-1.fna.fbcdn.net/v/t51.2885-15/311147738_125621630271897_8894318539880560476_n.webp?stp=dst-jpg_e35&_nc_ht=instagram.fbom8-1.fna.fbcdn.net&_nc_cat=109&_nc_ohc=kc2JrsgyqUEAX9Dj1UM&edm=AGyKU4gBAAAA&ccb=7-5&ig_cache_key=Mjk0Njk4Nzg4NDIzNDY5OTEzNg%3D%3D.2-ccb7-5&oh=00_AT_v7F_5Zv7pugjXu_fNGLn4wqn-OegtB9_Urn_leU1S3Q&oe=634D7375&_nc_sid=4cb768', 'https://instagram.fbom8-1.fna.fbcdn.net/v/t51.2885-15/311160543_462189645943574_2512333488917701265_n.webp?stp=dst-jpg_e35&_nc_ht=instagram.fbom8-1.fna.fbcdn.net&_nc_cat=102&_nc_ohc=cKJ2eFRsf1oAX9FEnFi&edm=AGyKU4gBAAAA&ccb=7-5&ig_cache_key=Mjk0NTEzODQ2NDY3MzEzMDAwMw%3D%3D.2-ccb7-5&oh=00_AT8uVDPVVOIVF05_rHxYjVLzL2C-AJqOX7JVQDKlbORkGw&oe=634CF951&_nc_sid=4cb768', 'https://instagram.fbom8-1.fna.fbcdn.net/v/t51.2885-15/309523675_796069998332941_6635239464073212576_n.webp?stp=dst-jpg_e35&_nc_ht=instagram.fbom8-1.fna.fbcdn.net&_nc_cat=1&_nc_ohc=6mMWfWkYMw8AX-yXe3b&edm=AGyKU4gBAAAA&ccb=7-5&ig_cache_key=Mjk0NjM5MjM1MzY0MDc4NTgyMw%3D%3D.2-ccb7-5&oh=00_AT_Pn8k6KRBlQwG7iW8d_ye1kDbcQMcKgMWAe1QoQkp0_A&oe=634D1EB6&_nc_sid=4cb768', 'https://instagram.fbom8-1.fna.fbcdn.net/v/t51.2885-15/311110083_1501530303697976_8075434862781030034_n.webp?stp=dst-jpg_e35&_nc_ht=instagram.fbom8-1.fna.fbcdn.net&_nc_cat=108&_nc_ohc=4DwcYBapbDMAX-9fPGI&edm=AGyKU4gBAAAA&ccb=7-5&ig_cache_key=Mjk0NTk4MjE4MTU3NzQyMjM0MA%3D%3D.2-ccb7-5&oh=00_AT9vXIFCP9I07530ExMf_FNl_-2wmdW4VU7YkndEGbYrag&oe=634E2798&_nc_sid=4cb768']\n"
     ]
    }
   ],
   "source": [
    "time.sleep(3)\n",
    "\n",
    "element = driver.find_element(By.TAG_NAME , 'body')\n",
    "\n",
    "element.send_keys(Keys.PAGE_DOWN)\n",
    "\n",
    "t=0\n",
    "\n",
    "while t <= 2 :\n",
    "    element.send_keys(Keys.PAGE_DOWN)\n",
    "    \n",
    "    time.sleep(3)\n",
    "    \n",
    "    t += 1\n",
    "    \n",
    "    \n",
    "\n",
    "images = driver.find_elements(By.XPATH , \"//img[@class='x5yr21d xu96u03 x10l6tqk x13vifvy x87ps6o xh8yej3']\")\n",
    "\n",
    "my_image= []\n",
    "for image in images:\n",
    "        source = image.get_attribute('src')\n",
    "        my_image.append(source)\n",
    "print(my_image)"
   ]
  },
  {
   "cell_type": "code",
   "execution_count": 18,
   "id": "60128d38",
   "metadata": {},
   "outputs": [],
   "source": [
    "import os"
   ]
  },
  {
   "cell_type": "code",
   "execution_count": 19,
   "id": "190fba89",
   "metadata": {},
   "outputs": [
    {
     "name": "stdout",
     "output_type": "stream",
     "text": [
      "file already present\n"
     ]
    },
    {
     "data": {
      "text/plain": [
       "'C:\\\\Users\\\\DELL\\\\Downloads\\\\pythones'"
      ]
     },
     "execution_count": 19,
     "metadata": {},
     "output_type": "execute_result"
    }
   ],
   "source": [
    "try:\n",
    "    path = os.getcwd()\n",
    "    path = os.path.join(path,keyword[1:] + 'es')\n",
    "\n",
    "    os.mkdir(path)\n",
    "except:\n",
    "    print('file already present')\n",
    "\n",
    "path"
   ]
  },
  {
   "cell_type": "code",
   "execution_count": 20,
   "id": "f5a31cb6",
   "metadata": {},
   "outputs": [],
   "source": [
    "import wget"
   ]
  },
  {
   "cell_type": "code",
   "execution_count": 21,
   "id": "e861838f",
   "metadata": {},
   "outputs": [
    {
     "name": "stdout",
     "output_type": "stream",
     "text": [
      "100% [..............................................................................] 41216 / 41216"
     ]
    }
   ],
   "source": [
    "counter = 0\n",
    "for image in my_image:\n",
    "    save_as = os.path.join(path,keyword[1:] + str(counter) + '.jpg')\n",
    "    wget.download(image, save_as)\n",
    "    counter +=1"
   ]
  },
  {
   "cell_type": "code",
   "execution_count": null,
   "id": "d33d68c4",
   "metadata": {},
   "outputs": [],
   "source": [
    "driver.close()"
   ]
  }
 ],
 "metadata": {
  "kernelspec": {
   "display_name": "Python 3 (ipykernel)",
   "language": "python",
   "name": "python3"
  },
  "language_info": {
   "codemirror_mode": {
    "name": "ipython",
    "version": 3
   },
   "file_extension": ".py",
   "mimetype": "text/x-python",
   "name": "python",
   "nbconvert_exporter": "python",
   "pygments_lexer": "ipython3",
   "version": "3.9.7"
  }
 },
 "nbformat": 4,
 "nbformat_minor": 5
}
